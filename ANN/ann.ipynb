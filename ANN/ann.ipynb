{
 "cells": [
  {
   "cell_type": "code",
   "execution_count": 1,
   "metadata": {},
   "outputs": [
    {
     "name": "stdout",
     "output_type": "stream",
     "text": [
      "WARNING:tensorflow:From c:\\Users\\aabha\\AppData\\Local\\Programs\\Python\\Python311\\Lib\\site-packages\\keras\\src\\losses.py:2976: The name tf.losses.sparse_softmax_cross_entropy is deprecated. Please use tf.compat.v1.losses.sparse_softmax_cross_entropy instead.\n",
      "\n"
     ]
    }
   ],
   "source": [
    "import tensorflow as tf\n",
    "from tensorflow.keras.models import Sequential\n",
    "from tensorflow.keras.layers import Dense\n",
    "from sklearn.model_selection import train_test_split\n",
    "from sklearn.datasets import make_classification\n",
    "from sklearn.preprocessing import StandardScaler"
   ]
  },
  {
   "cell_type": "code",
   "execution_count": 2,
   "metadata": {},
   "outputs": [],
   "source": [
    "X, y = make_classification(n_samples=1000, n_features=20, n_classes=2, random_state=42)"
   ]
  },
  {
   "cell_type": "code",
   "execution_count": 3,
   "metadata": {},
   "outputs": [],
   "source": [
    "X_train, X_test, y_train, y_test = train_test_split(X, y, test_size=0.3, random_state=42)"
   ]
  },
  {
   "cell_type": "code",
   "execution_count": 4,
   "metadata": {},
   "outputs": [],
   "source": [
    "scaler = StandardScaler()\n",
    "X_train = scaler.fit_transform(X_train)\n",
    "X_test = scaler.transform(X_test)"
   ]
  },
  {
   "cell_type": "code",
   "execution_count": 5,
   "metadata": {},
   "outputs": [
    {
     "name": "stdout",
     "output_type": "stream",
     "text": [
      "WARNING:tensorflow:From c:\\Users\\aabha\\AppData\\Local\\Programs\\Python\\Python311\\Lib\\site-packages\\keras\\src\\backend.py:873: The name tf.get_default_graph is deprecated. Please use tf.compat.v1.get_default_graph instead.\n",
      "\n"
     ]
    }
   ],
   "source": [
    "model = Sequential()\n",
    "model.add(Dense(32, input_dim=20, activation='relu'))  # Input layer and first hidden layer\n",
    "model.add(Dense(16, activation='relu'))               # Second hidden layer\n",
    "model.add(Dense(1, activation='sigmoid'))             #Output Layer"
   ]
  },
  {
   "cell_type": "code",
   "execution_count": 6,
   "metadata": {},
   "outputs": [
    {
     "name": "stdout",
     "output_type": "stream",
     "text": [
      "WARNING:tensorflow:From c:\\Users\\aabha\\AppData\\Local\\Programs\\Python\\Python311\\Lib\\site-packages\\keras\\src\\optimizers\\__init__.py:309: The name tf.train.Optimizer is deprecated. Please use tf.compat.v1.train.Optimizer instead.\n",
      "\n"
     ]
    }
   ],
   "source": [
    "model.compile(optimizer='adam', loss='binary_crossentropy', metrics=['accuracy'])"
   ]
  },
  {
   "cell_type": "code",
   "execution_count": 7,
   "metadata": {},
   "outputs": [
    {
     "name": "stdout",
     "output_type": "stream",
     "text": [
      "Epoch 1/50\n",
      "WARNING:tensorflow:From c:\\Users\\aabha\\AppData\\Local\\Programs\\Python\\Python311\\Lib\\site-packages\\keras\\src\\utils\\tf_utils.py:492: The name tf.ragged.RaggedTensorValue is deprecated. Please use tf.compat.v1.ragged.RaggedTensorValue instead.\n",
      "\n",
      "WARNING:tensorflow:From c:\\Users\\aabha\\AppData\\Local\\Programs\\Python\\Python311\\Lib\\site-packages\\keras\\src\\engine\\base_layer_utils.py:384: The name tf.executing_eagerly_outside_functions is deprecated. Please use tf.compat.v1.executing_eagerly_outside_functions instead.\n",
      "\n",
      "70/70 [==============================] - 2s 6ms/step - loss: 0.6428 - accuracy: 0.6443 - val_loss: 0.5760 - val_accuracy: 0.7333\n",
      "Epoch 2/50\n",
      "70/70 [==============================] - 0s 3ms/step - loss: 0.4821 - accuracy: 0.8143 - val_loss: 0.4859 - val_accuracy: 0.7933\n",
      "Epoch 3/50\n",
      "70/70 [==============================] - 0s 3ms/step - loss: 0.3880 - accuracy: 0.8500 - val_loss: 0.4406 - val_accuracy: 0.8167\n",
      "Epoch 4/50\n",
      "70/70 [==============================] - 0s 3ms/step - loss: 0.3352 - accuracy: 0.8843 - val_loss: 0.4160 - val_accuracy: 0.8100\n",
      "Epoch 5/50\n",
      "70/70 [==============================] - 0s 3ms/step - loss: 0.3069 - accuracy: 0.8814 - val_loss: 0.4077 - val_accuracy: 0.8233\n",
      "Epoch 6/50\n",
      "70/70 [==============================] - 0s 3ms/step - loss: 0.2877 - accuracy: 0.8900 - val_loss: 0.4022 - val_accuracy: 0.8267\n",
      "Epoch 7/50\n",
      "70/70 [==============================] - 0s 3ms/step - loss: 0.2773 - accuracy: 0.9029 - val_loss: 0.4026 - val_accuracy: 0.8300\n",
      "Epoch 8/50\n",
      "70/70 [==============================] - 0s 4ms/step - loss: 0.2660 - accuracy: 0.9014 - val_loss: 0.4026 - val_accuracy: 0.8333\n",
      "Epoch 9/50\n",
      "70/70 [==============================] - 0s 3ms/step - loss: 0.2565 - accuracy: 0.9043 - val_loss: 0.4021 - val_accuracy: 0.8367\n",
      "Epoch 10/50\n",
      "70/70 [==============================] - 0s 3ms/step - loss: 0.2471 - accuracy: 0.9114 - val_loss: 0.4035 - val_accuracy: 0.8367\n",
      "Epoch 11/50\n",
      "70/70 [==============================] - 0s 3ms/step - loss: 0.2395 - accuracy: 0.9143 - val_loss: 0.4038 - val_accuracy: 0.8367\n",
      "Epoch 12/50\n",
      "70/70 [==============================] - 0s 3ms/step - loss: 0.2305 - accuracy: 0.9143 - val_loss: 0.4031 - val_accuracy: 0.8400\n",
      "Epoch 13/50\n",
      "70/70 [==============================] - 0s 3ms/step - loss: 0.2230 - accuracy: 0.9171 - val_loss: 0.4097 - val_accuracy: 0.8333\n",
      "Epoch 14/50\n",
      "70/70 [==============================] - 0s 3ms/step - loss: 0.2161 - accuracy: 0.9214 - val_loss: 0.4059 - val_accuracy: 0.8367\n",
      "Epoch 15/50\n",
      "70/70 [==============================] - 0s 3ms/step - loss: 0.2087 - accuracy: 0.9300 - val_loss: 0.4111 - val_accuracy: 0.8367\n",
      "Epoch 16/50\n",
      "70/70 [==============================] - 0s 3ms/step - loss: 0.2018 - accuracy: 0.9271 - val_loss: 0.4132 - val_accuracy: 0.8367\n",
      "Epoch 17/50\n",
      "70/70 [==============================] - 0s 3ms/step - loss: 0.1940 - accuracy: 0.9329 - val_loss: 0.4138 - val_accuracy: 0.8367\n",
      "Epoch 18/50\n",
      "70/70 [==============================] - 0s 3ms/step - loss: 0.1845 - accuracy: 0.9429 - val_loss: 0.4321 - val_accuracy: 0.8233\n",
      "Epoch 19/50\n",
      "70/70 [==============================] - 0s 3ms/step - loss: 0.1806 - accuracy: 0.9414 - val_loss: 0.4255 - val_accuracy: 0.8367\n",
      "Epoch 20/50\n",
      "70/70 [==============================] - 0s 3ms/step - loss: 0.1736 - accuracy: 0.9457 - val_loss: 0.4287 - val_accuracy: 0.8367\n",
      "Epoch 21/50\n",
      "70/70 [==============================] - 0s 3ms/step - loss: 0.1653 - accuracy: 0.9471 - val_loss: 0.4363 - val_accuracy: 0.8300\n",
      "Epoch 22/50\n",
      "70/70 [==============================] - 0s 3ms/step - loss: 0.1592 - accuracy: 0.9486 - val_loss: 0.4397 - val_accuracy: 0.8300\n",
      "Epoch 23/50\n",
      "70/70 [==============================] - 0s 3ms/step - loss: 0.1528 - accuracy: 0.9514 - val_loss: 0.4435 - val_accuracy: 0.8200\n",
      "Epoch 24/50\n",
      "70/70 [==============================] - 0s 3ms/step - loss: 0.1473 - accuracy: 0.9571 - val_loss: 0.4527 - val_accuracy: 0.8233\n",
      "Epoch 25/50\n",
      "70/70 [==============================] - 0s 3ms/step - loss: 0.1413 - accuracy: 0.9600 - val_loss: 0.4575 - val_accuracy: 0.8267\n",
      "Epoch 26/50\n",
      "70/70 [==============================] - 0s 3ms/step - loss: 0.1347 - accuracy: 0.9586 - val_loss: 0.4653 - val_accuracy: 0.8300\n",
      "Epoch 27/50\n",
      "70/70 [==============================] - 0s 3ms/step - loss: 0.1281 - accuracy: 0.9657 - val_loss: 0.4664 - val_accuracy: 0.8300\n",
      "Epoch 28/50\n",
      "70/70 [==============================] - 0s 3ms/step - loss: 0.1235 - accuracy: 0.9700 - val_loss: 0.4739 - val_accuracy: 0.8300\n",
      "Epoch 29/50\n",
      "70/70 [==============================] - 0s 2ms/step - loss: 0.1186 - accuracy: 0.9671 - val_loss: 0.4775 - val_accuracy: 0.8300\n",
      "Epoch 30/50\n",
      "70/70 [==============================] - 0s 3ms/step - loss: 0.1139 - accuracy: 0.9729 - val_loss: 0.4902 - val_accuracy: 0.8200\n",
      "Epoch 31/50\n",
      "70/70 [==============================] - 0s 3ms/step - loss: 0.1090 - accuracy: 0.9786 - val_loss: 0.4932 - val_accuracy: 0.8300\n",
      "Epoch 32/50\n",
      "70/70 [==============================] - 0s 3ms/step - loss: 0.1032 - accuracy: 0.9757 - val_loss: 0.4952 - val_accuracy: 0.8367\n",
      "Epoch 33/50\n",
      "70/70 [==============================] - 0s 3ms/step - loss: 0.0982 - accuracy: 0.9771 - val_loss: 0.5096 - val_accuracy: 0.8367\n",
      "Epoch 34/50\n",
      "70/70 [==============================] - 0s 3ms/step - loss: 0.0961 - accuracy: 0.9757 - val_loss: 0.5085 - val_accuracy: 0.8300\n",
      "Epoch 35/50\n",
      "70/70 [==============================] - 0s 3ms/step - loss: 0.0902 - accuracy: 0.9814 - val_loss: 0.5160 - val_accuracy: 0.8400\n",
      "Epoch 36/50\n",
      "70/70 [==============================] - 0s 3ms/step - loss: 0.0848 - accuracy: 0.9786 - val_loss: 0.5204 - val_accuracy: 0.8333\n",
      "Epoch 37/50\n",
      "70/70 [==============================] - 0s 2ms/step - loss: 0.0816 - accuracy: 0.9814 - val_loss: 0.5291 - val_accuracy: 0.8333\n",
      "Epoch 38/50\n",
      "70/70 [==============================] - 0s 3ms/step - loss: 0.0771 - accuracy: 0.9814 - val_loss: 0.5493 - val_accuracy: 0.8300\n",
      "Epoch 39/50\n",
      "70/70 [==============================] - 0s 3ms/step - loss: 0.0744 - accuracy: 0.9829 - val_loss: 0.5419 - val_accuracy: 0.8267\n",
      "Epoch 40/50\n",
      "70/70 [==============================] - 0s 2ms/step - loss: 0.0698 - accuracy: 0.9829 - val_loss: 0.5525 - val_accuracy: 0.8333\n",
      "Epoch 41/50\n",
      "70/70 [==============================] - 0s 3ms/step - loss: 0.0665 - accuracy: 0.9886 - val_loss: 0.5567 - val_accuracy: 0.8333\n",
      "Epoch 42/50\n",
      "70/70 [==============================] - 0s 3ms/step - loss: 0.0630 - accuracy: 0.9914 - val_loss: 0.5804 - val_accuracy: 0.8300\n",
      "Epoch 43/50\n",
      "70/70 [==============================] - 0s 3ms/step - loss: 0.0607 - accuracy: 0.9900 - val_loss: 0.5776 - val_accuracy: 0.8267\n",
      "Epoch 44/50\n",
      "70/70 [==============================] - 0s 2ms/step - loss: 0.0570 - accuracy: 0.9943 - val_loss: 0.5896 - val_accuracy: 0.8367\n",
      "Epoch 45/50\n",
      "70/70 [==============================] - 0s 3ms/step - loss: 0.0537 - accuracy: 0.9943 - val_loss: 0.6042 - val_accuracy: 0.8333\n",
      "Epoch 46/50\n",
      "70/70 [==============================] - 0s 3ms/step - loss: 0.0507 - accuracy: 0.9957 - val_loss: 0.6115 - val_accuracy: 0.8300\n",
      "Epoch 47/50\n",
      "70/70 [==============================] - 0s 2ms/step - loss: 0.0483 - accuracy: 0.9957 - val_loss: 0.6106 - val_accuracy: 0.8267\n",
      "Epoch 48/50\n",
      "70/70 [==============================] - 0s 2ms/step - loss: 0.0463 - accuracy: 0.9971 - val_loss: 0.6280 - val_accuracy: 0.8267\n",
      "Epoch 49/50\n",
      "70/70 [==============================] - 0s 3ms/step - loss: 0.0434 - accuracy: 0.9971 - val_loss: 0.6339 - val_accuracy: 0.8333\n",
      "Epoch 50/50\n",
      "70/70 [==============================] - 0s 3ms/step - loss: 0.0404 - accuracy: 0.9971 - val_loss: 0.6355 - val_accuracy: 0.8333\n"
     ]
    },
    {
     "data": {
      "text/plain": [
       "<keras.src.callbacks.History at 0x1afa70970d0>"
      ]
     },
     "execution_count": 7,
     "metadata": {},
     "output_type": "execute_result"
    }
   ],
   "source": [
    "model.fit(X_train, y_train, epochs=50, batch_size=10, validation_data=(X_test, y_test))"
   ]
  },
  {
   "cell_type": "code",
   "execution_count": 8,
   "metadata": {},
   "outputs": [
    {
     "name": "stdout",
     "output_type": "stream",
     "text": [
      "10/10 [==============================] - 0s 2ms/step - loss: 0.6355 - accuracy: 0.8333\n",
      "Test Accuracy: 0.8333\n"
     ]
    }
   ],
   "source": [
    "loss, accuracy = model.evaluate(X_test, y_test)\n",
    "print(f\"Test Accuracy: {accuracy:.4f}\")"
   ]
  },
  {
   "cell_type": "code",
   "execution_count": null,
   "metadata": {},
   "outputs": [],
   "source": []
  }
 ],
 "metadata": {
  "kernelspec": {
   "display_name": "Python 3",
   "language": "python",
   "name": "python3"
  },
  "language_info": {
   "codemirror_mode": {
    "name": "ipython",
    "version": 3
   },
   "file_extension": ".py",
   "mimetype": "text/x-python",
   "name": "python",
   "nbconvert_exporter": "python",
   "pygments_lexer": "ipython3",
   "version": "3.11.2"
  }
 },
 "nbformat": 4,
 "nbformat_minor": 2
}
